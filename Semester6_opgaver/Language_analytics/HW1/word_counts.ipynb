{
 "cells": [
  {
   "cell_type": "markdown",
   "metadata": {},
   "source": [
    "# Assignment 1: Word Count\n",
    "__Basic scripting with Python__\n",
    "\n",
    "Using the corpus called 100-english-novels found on the cds-language GitHub repo, write a Python programme which does the following:\n",
    "\n",
    "- Calculate the total word count for each novel\n",
    "- Calculate the total number of unique words for each novel\n",
    "- Save result as a single file consisting of three columns: filename, total_words, unique_words"
   ]
  },
  {
   "cell_type": "code",
   "execution_count": 38,
   "metadata": {},
   "outputs": [],
   "source": [
    "#First i have to acces all the files, by loading them in to the script.\n",
    "\n",
    "import os #Importing operating system"
   ]
  },
  {
   "cell_type": "code",
   "execution_count": 39,
   "metadata": {},
   "outputs": [],
   "source": [
    "from pathlib import Path #Importing Path that we are going to acces our files with"
   ]
  },
  {
   "cell_type": "code",
   "execution_count": 40,
   "metadata": {},
   "outputs": [],
   "source": [
    "data_path = os.path.join(\"..\", \"data\", \"100_english_novels\", \"corpus\") # I save the path to where the novels are saved."
   ]
  },
  {
   "cell_type": "code",
   "execution_count": 41,
   "metadata": {},
   "outputs": [],
   "source": [
    "#creating a container for the total word count\n",
    "wordcount = [\"  Filename                                                TotalWC  UniqueWC\"]"
   ]
  },
  {
   "cell_type": "code",
   "execution_count": 42,
   "metadata": {},
   "outputs": [],
   "source": [
    "for filename in Path(data_path).glob(\"*.txt\"): #Then I create a for loop that can run through the novels in the folder corpus, that we just createt a path to.\n",
    "    with open(filename, \"r\", encoding=\"utf-8\") as file: #Inside the for loop, I open each file as a file.\n",
    "        loaded_text = file.read() #Then I read the file.\n",
    "        split_text = loaded_text.split() #I split the loaded text on whitespace. Each word is now a an item in a list in each text.\n",
    "                                         #This enable me to count the number of words in the text.\n",
    "        unique_set = set(split_text) #Using the set function to get the unique wordcount for each text. Set only counts words once.\n",
    "        \n",
    "        wordcount.append(f\"{filename}, {len(split_text)}, {len(unique_set)}.\" + \"\\n\")"
   ]
  },
  {
   "cell_type": "code",
   "execution_count": 43,
   "metadata": {},
   "outputs": [
    {
     "name": "stdout",
     "output_type": "stream",
     "text": [
      "76\n"
     ]
    },
    {
     "data": {
      "text/plain": [
       "'../data/100_english_novels/corpus/Cbronte_Villette_1853.txt, 196557, 29084.\\n'"
      ]
     },
     "execution_count": 43,
     "metadata": {},
     "output_type": "execute_result"
    }
   ],
   "source": [
    "print(len(wordcount[1]))\n",
    "wordcount[1]"
   ]
  },
  {
   "cell_type": "code",
   "execution_count": 44,
   "metadata": {},
   "outputs": [
    {
     "data": {
      "text/plain": [
       "['  Filename                                                TotalWC  UniqueWC',\n",
       " '../data/100_english_novels/corpus/Cbronte_Villette_1853.txt, 196557, 29084.\\n',\n",
       " '../data/100_english_novels/corpus/Forster_Angels_1905.txt, 50477, 9464.\\n',\n",
       " '../data/100_english_novels/corpus/Woolf_Lighthouse_1927.txt, 70185, 11157.\\n',\n",
       " '../data/100_english_novels/corpus/Meredith_Richmond_1871.txt, 214985, 28892.\\n',\n",
       " '../data/100_english_novels/corpus/Stevenson_Treasure_1883.txt, 68448, 10831.\\n',\n",
       " '../data/100_english_novels/corpus/Forster_Howards_1910.txt, 111057, 17065.\\n',\n",
       " '../data/100_english_novels/corpus/Wcollins_Basil_1852.txt, 118088, 14586.\\n',\n",
       " '../data/100_english_novels/corpus/Schreiner_Undine_1929.txt, 90672, 11744.\\n',\n",
       " '../data/100_english_novels/corpus/Galsworthy_Man_1906.txt, 110455, 16713.\\n',\n",
       " '../data/100_english_novels/corpus/Corelli_Innocent_1914.txt, 121950, 19627.\\n',\n",
       " '../data/100_english_novels/corpus/Kipling_Light_1891.txt, 72479, 12493.\\n',\n",
       " '../data/100_english_novels/corpus/Conrad_Nostromo_1904.txt, 172276, 21884.\\n',\n",
       " '../data/100_english_novels/corpus/Stevenson_Arrow_1888.txt, 80291, 13168.\\n',\n",
       " '../data/100_english_novels/corpus/Hardy_Tess_1891.txt, 151197, 20955.\\n',\n",
       " '../data/100_english_novels/corpus/Thackeray_Esmond_1852.txt, 187049, 21375.\\n',\n",
       " '../data/100_english_novels/corpus/Doyle_Lost_1912.txt, 76281, 12621.\\n',\n",
       " '../data/100_english_novels/corpus/Trollope_Angel_1881.txt, 217694, 18023.\\n',\n",
       " '../data/100_english_novels/corpus/Gissing_Warburton_1903.txt, 85093, 12864.\\n',\n",
       " '../data/100_english_novels/corpus/Barclay_Rosary_1909.txt, 105920, 15223.\\n',\n",
       " '../data/100_english_novels/corpus/Eliot_Daniel_1876.txt, 311335, 28606.\\n',\n",
       " '../data/100_english_novels/corpus/James_Tragic_1890.txt, 210553, 21589.\\n',\n",
       " '../data/100_english_novels/corpus/Doyle_Micah_1889.txt, 177917, 23564.\\n',\n",
       " '../data/100_english_novels/corpus/Dickens_Bleak_1853.txt, 357936, 30797.\\n',\n",
       " '../data/100_english_novels/corpus/Woolf_Night_1919.txt, 167075, 19055.\\n',\n",
       " '../data/100_english_novels/corpus/Braddon_Audley_1862.txt, 148763, 18055.\\n',\n",
       " '../data/100_english_novels/corpus/Bennet_Babylon_1902.txt, 68397, 11529.\\n',\n",
       " '../data/100_english_novels/corpus/Kipling_Kim_1901.txt, 107663, 17998.\\n',\n",
       " '../data/100_english_novels/corpus/Lytton_What_1858.txt, 338512, 38658.\\n',\n",
       " '../data/100_english_novels/corpus/Meredith_Marriage_1895.txt, 156151, 24931.\\n',\n",
       " '../data/100_english_novels/corpus/Corelli_Satan_1895.txt, 169571, 22058.\\n',\n",
       " '../data/100_english_novels/corpus/Haggard_Mines_1885.txt, 82948, 12373.\\n',\n",
       " '../data/100_english_novels/corpus/Stevenson_Catriona_1893.txt, 102106, 13816.\\n',\n",
       " '../data/100_english_novels/corpus/Doyle_Hound_1902.txt, 59639, 9393.\\n',\n",
       " '../data/100_english_novels/corpus/Chesterton_Innocence_1911.txt, 79361, 13458.\\n',\n",
       " '../data/100_english_novels/corpus/Blackmore_Lorna_1869.txt, 273259, 25408.\\n',\n",
       " '../data/100_english_novels/corpus/Haggard_Sheallan_1921.txt, 121506, 13669.\\n',\n",
       " '../data/100_english_novels/corpus/Gaskell_Wives_1865.txt, 270014, 23203.\\n',\n",
       " '../data/100_english_novels/corpus/Cbronte_Jane_1847.txt, 189103, 25762.\\n',\n",
       " '../data/100_english_novels/corpus/Wcollins_Legacy_1889.txt, 120704, 13383.\\n',\n",
       " '../data/100_english_novels/corpus/Morris_Roots_1890.txt, 154305, 14085.\\n',\n",
       " '../data/100_english_novels/corpus/Burnett_Garden_1911.txt, 81043, 8939.\\n',\n",
       " '../data/100_english_novels/corpus/Ford_Post_1926.txt, 72055, 12728.\\n',\n",
       " '../data/100_english_novels/corpus/Thackeray_Pendennis_1850.txt, 359496, 34188.\\n',\n",
       " '../data/100_english_novels/corpus/James_Roderick_1875.txt, 132759, 17715.\\n',\n",
       " '../data/100_english_novels/corpus/Haggard_She_1887.txt, 113770, 15269.\\n',\n",
       " '../data/100_english_novels/corpus/Galsworthy_River_1933.txt, 89871, 13114.\\n',\n",
       " '../data/100_english_novels/corpus/Morris_Wood_1894.txt, 49983, 6890.\\n',\n",
       " '../data/100_english_novels/corpus/Barclay_Postern_1911.txt, 40015, 7921.\\n',\n",
       " '../data/100_english_novels/corpus/Conrad_Almayer_1895.txt, 63257, 10344.\\n',\n",
       " '../data/100_english_novels/corpus/Thackeray_Virginians_1859.txt, 356604, 34367.\\n',\n",
       " '../data/100_english_novels/corpus/Bennet_Helen_1910.txt, 52644, 10251.\\n',\n",
       " '../data/100_english_novels/corpus/Lee_Brown_1884.txt, 48242, 9369.\\n',\n",
       " '../data/100_english_novels/corpus/Lawrence_Women_1920.txt, 183180, 22055.\\n',\n",
       " '../data/100_english_novels/corpus/Schreiner_Farm_1883.txt, 100645, 13501.\\n',\n",
       " '../data/100_english_novels/corpus/Lytton_Novel_1853.txt, 456592, 42679.\\n',\n",
       " '../data/100_english_novels/corpus/Lawrence_Peacock_1911.txt, 124497, 18254.\\n',\n",
       " '../data/100_english_novels/corpus/Schreiner_Trooper_1897.txt, 24612, 4832.\\n',\n",
       " '../data/100_english_novels/corpus/Cbronte_Shirley_1849.txt, 218572, 29500.\\n',\n",
       " '../data/100_english_novels/corpus/James_Ambassadors_1903.txt, 167555, 17390.\\n',\n",
       " '../data/100_english_novels/corpus/Lawrence_Serpent_1926.txt, 172356, 21246.\\n',\n",
       " '../data/100_english_novels/corpus/Braddon_Quest_1871.txt, 174199, 17608.\\n',\n",
       " '../data/100_english_novels/corpus/Dickens_Oliver_1839.txt, 159489, 20367.\\n',\n",
       " '../data/100_english_novels/corpus/Trollope_Warden_1855.txt, 72102, 11464.\\n',\n",
       " '../data/100_english_novels/corpus/Barclay_Ladies_1917.txt, 122382, 15657.\\n',\n",
       " '../data/100_english_novels/corpus/Ward_Harvest_1920.txt, 75043, 13264.\\n',\n",
       " '../data/100_english_novels/corpus/Blackmore_Erema_1877.txt, 167016, 18885.\\n',\n",
       " '../data/100_english_novels/corpus/Wcollins_Woman_1860.txt, 247078, 19959.\\n',\n",
       " '../data/100_english_novels/corpus/Hardy_Madding_1874.txt, 138440, 20378.\\n',\n",
       " '../data/100_english_novels/corpus/Lee_Penelope_1903.txt, 21840, 5325.\\n',\n",
       " '../data/100_english_novels/corpus/Eliot_Adam_1859.txt, 216651, 21482.\\n',\n",
       " '../data/100_english_novels/corpus/Gaskell_Lovers_1863.txt, 191037, 21087.\\n',\n",
       " '../data/100_english_novels/corpus/Corelli_Romance_1886.txt, 100526, 15923.\\n',\n",
       " '../data/100_english_novels/corpus/Conrad_Rover_1923.txt, 88101, 11978.\\n',\n",
       " '../data/100_english_novels/corpus/Gissing_Women_1893.txt, 139234, 16912.\\n',\n",
       " '../data/100_english_novels/corpus/Woolf_Years_1937.txt, 130903, 16701.\\n',\n",
       " '../data/100_english_novels/corpus/Trollope_Phineas_1869.txt, 266634, 19592.\\n',\n",
       " '../data/100_english_novels/corpus/Lytton_Kenelm_1873.txt, 193074, 24678.\\n',\n",
       " '../data/100_english_novels/corpus/Blackmore_Springhaven_1887.txt, 202113, 23115.\\n',\n",
       " '../data/100_english_novels/corpus/Forster_View_1908.txt, 67930, 12114.\\n',\n",
       " '../data/100_english_novels/corpus/Eliot_Felix_1866.txt, 182816, 22340.\\n',\n",
       " '../data/100_english_novels/corpus/Chesterton_Napoleon_1904.txt, 54920, 10847.\\n',\n",
       " '../data/100_english_novels/corpus/Bennet_Imperial_1930.txt, 255975, 29278.\\n',\n",
       " '../data/100_english_novels/corpus/Burnett_Princess_1905.txt, 66877, 9037.\\n',\n",
       " '../data/100_english_novels/corpus/Ward_Milly_1881.txt, 47588, 6688.\\n',\n",
       " '../data/100_english_novels/corpus/Ford_Girl_1907.txt, 35708, 7092.\\n',\n",
       " '../data/100_english_novels/corpus/Meredith_Feverel_1859.txt, 168781, 24576.\\n',\n",
       " '../data/100_english_novels/corpus/Lee_Albany_1884.txt, 62913, 11628.\\n',\n",
       " '../data/100_english_novels/corpus/Ford_Soldier_1915.txt, 76750, 10626.\\n',\n",
       " '../data/100_english_novels/corpus/Ward_Ashe_1905.txt, 141832, 21292.\\n',\n",
       " '../data/100_english_novels/corpus/Morris_Water_1897.txt, 147737, 12079.\\n',\n",
       " '../data/100_english_novels/corpus/Galsworthy_Saints_1919.txt, 95156, 14582.\\n',\n",
       " '../data/100_english_novels/corpus/Gissing_Unclassed_1884.txt, 124877, 15769.\\n',\n",
       " '../data/100_english_novels/corpus/Anon_Clara_1864.txt, 197620, 24797.\\n',\n",
       " '../data/100_english_novels/corpus/Hardy_Jude_1895.txt, 147273, 19237.\\n',\n",
       " '../data/100_english_novels/corpus/Dickens_Expectations_1861.txt, 186804, 20536.\\n',\n",
       " '../data/100_english_novels/corpus/Chesterton_Thursday_1908.txt, 58299, 10385.\\n',\n",
       " '../data/100_english_novels/corpus/Burnett_Lord_1886.txt, 58698, 8131.\\n',\n",
       " '../data/100_english_novels/corpus/Braddon_Phantom_1883.txt, 180676, 22474.\\n',\n",
       " '../data/100_english_novels/corpus/Gaskell_Ruth_1855.txt, 161797, 18148.\\n',\n",
       " '../data/100_english_novels/corpus/Kipling_Captains_1896.txt, 53467, 11709.\\n']"
      ]
     },
     "execution_count": 44,
     "metadata": {},
     "output_type": "execute_result"
    }
   ],
   "source": [
    "wordcount"
   ]
  },
  {
   "cell_type": "code",
   "execution_count": 45,
   "metadata": {},
   "outputs": [],
   "source": [
    "#making list into a string so it can be written to a file\n",
    "\n",
    "string_wordcount = '\\n'.join(wordcount)"
   ]
  },
  {
   "cell_type": "code",
   "execution_count": 47,
   "metadata": {},
   "outputs": [],
   "source": [
    "#Writing the file to a document.\n",
    "wordcount_file = os.path.join(\"..\", \"data\", \"test_files\", \"wordcount.txt\")\n",
    "#We are writing out the path to where the document is being saved and naming the file wordcount.txt"
   ]
  },
  {
   "cell_type": "code",
   "execution_count": 48,
   "metadata": {},
   "outputs": [],
   "source": [
    "with open(wordcount_file, \"w\", encoding=\"utf-8\") as file:\n",
    "    file.write(string_wordcount)\n",
    "#Here we put the content of our string into the file."
   ]
  }
 ],
 "metadata": {
  "kernelspec": {
   "display_name": "lang101",
   "language": "python",
   "name": "lang101"
  },
  "language_info": {
   "codemirror_mode": {
    "name": "ipython",
    "version": 3
   },
   "file_extension": ".py",
   "mimetype": "text/x-python",
   "name": "python",
   "nbconvert_exporter": "python",
   "pygments_lexer": "ipython3",
   "version": "3.6.9"
  }
 },
 "nbformat": 4,
 "nbformat_minor": 4
}
